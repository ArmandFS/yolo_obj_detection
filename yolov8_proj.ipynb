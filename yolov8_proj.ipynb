{
 "cells": [
  {
   "cell_type": "markdown",
   "metadata": {},
   "source": [
    "## Trying out a human-face object detector using YoloV8\n",
    "##### Import the necessary libraries used to split, process, clean data, and to assemble the YOLO object detection process"
   ]
  },
  {
   "cell_type": "code",
   "execution_count": 2,
   "metadata": {},
   "outputs": [],
   "source": [
    "#Import libraries\n",
    "import os\n",
    "import numpy as np\n",
    "import pandas as pd\n",
    "import shutil\n",
    "import cv2\n",
    "import random\n",
    "import matplotlib.pyplot as plt\n",
    "import wandb\n",
    "import pkg_resources\n"
   ]
  },
  {
   "cell_type": "markdown",
   "metadata": {},
   "source": [
    "##### Python Script to check for local libraries"
   ]
  },
  {
   "cell_type": "code",
   "execution_count": 3,
   "metadata": {},
   "outputs": [
    {
     "name": "stdout",
     "output_type": "stream",
     "text": [
      "-pencv-python==4.8.0.76\n",
      "absl-py==1.4.0\n",
      "altair==5.1.1\n",
      "anyio==3.7.0\n",
      "appdirs==1.4.4\n",
      "array-record==0.2.0\n",
      "asttokens==2.2.1\n",
      "astunparse==1.6.3\n",
      "attrs==23.1.0\n",
      "backcall==0.2.0\n",
      "biopython==1.81\n",
      "blinker==1.6.2\n",
      "cachetools==5.3.1\n",
      "certifi==2023.5.7\n",
      "charset-normalizer==3.1.0\n",
      "click==8.1.3\n",
      "colorama==0.4.6\n",
      "comm==0.1.3\n",
      "contourpy==1.1.0\n",
      "cycler==0.11.0\n",
      "debugpy==1.6.7\n",
      "decorator==5.1.1\n",
      "dill==0.3.6\n",
      "distro==1.9.0\n",
      "dm-tree==0.1.8\n",
      "docker-pycreds==0.4.0\n",
      "etils==1.3.0\n",
      "executing==1.2.0\n",
      "fastapi==0.97.0\n",
      "fastjsonschema==2.18.0\n",
      "flatbuffers==23.5.26\n",
      "fonttools==4.40.0\n",
      "gast==0.4.0\n",
      "gitdb==4.0.10\n",
      "gitpython==3.1.34\n",
      "google-auth-oauthlib==1.0.0\n",
      "google-auth==2.20.0\n",
      "google-pasta==0.2.0\n",
      "googleapis-common-protos==1.59.0\n",
      "grpcio==1.54.2\n",
      "h11==0.14.0\n",
      "h5py==3.8.0\n",
      "httpcore==1.0.2\n",
      "httptools==0.5.0\n",
      "httpx==0.26.0\n",
      "idna==3.4\n",
      "imageio==2.31.1\n",
      "importlib-metadata==6.8.0\n",
      "importlib-resources==5.12.0\n",
      "imutils==0.5.4\n",
      "ipyfilechooser==0.6.0\n",
      "ipykernel==6.23.1\n",
      "ipython==8.13.2\n",
      "ipywidgets==8.1.1\n",
      "jax==0.4.12\n",
      "jedi==0.18.2\n",
      "jinja2==3.1.2\n",
      "joblib==1.2.0\n",
      "jsonschema-specifications==2023.7.1\n",
      "jsonschema==4.19.0\n",
      "jupyter-client==8.2.0\n",
      "jupyter-core==5.3.0\n",
      "jupyterlab-widgets==3.0.9\n",
      "keras==2.12.0\n",
      "kiwisolver==1.4.4\n",
      "lazy-loader==0.3\n",
      "libclang==16.0.0\n",
      "markdown-it-py==3.0.0\n",
      "markdown==3.4.3\n",
      "markupsafe==2.1.3\n",
      "matplotlib-inline==0.1.6\n",
      "matplotlib==3.7.1\n",
      "mdurl==0.1.2\n",
      "ml-dtypes==0.2.0\n",
      "nbformat==5.9.2\n",
      "nest-asyncio==1.5.6\n",
      "networkx==3.1\n",
      "numpy==1.23.5\n",
      "oauthlib==3.2.2\n",
      "openai==1.12.0\n",
      "opencv-python==4.8.0.76\n",
      "opt-einsum==3.3.0\n",
      "packaging==23.1\n",
      "pandas==2.0.3\n",
      "parso==0.8.3\n",
      "pickleshare==0.7.5\n",
      "pillow==9.5.0\n",
      "pip==23.1.2\n",
      "platformdirs==3.5.1\n",
      "plotly==5.17.0\n",
      "promise==2.3\n",
      "prompt-toolkit==3.0.38\n",
      "protobuf==4.23.3\n",
      "psutil==5.9.5\n",
      "psycopg2==2.9.8\n",
      "pure-eval==0.2.2\n",
      "pyarrow==13.0.0\n",
      "pyasn1-modules==0.3.0\n",
      "pyasn1==0.5.0\n",
      "pydantic==1.10.9\n",
      "pydeck==0.8.0\n",
      "pydot==1.4.2\n",
      "pygments==2.15.1\n",
      "pympler==1.0.1\n",
      "pyparsing==3.1.0\n",
      "python-dateutil==2.8.2\n",
      "python-dotenv==1.0.0\n",
      "python-multipart==0.0.6\n",
      "pytz-deprecation-shim==0.1.0.post0\n",
      "pytz==2023.3\n",
      "pywavelets==1.4.1\n",
      "pywin32==306\n",
      "pyyaml==6.0\n",
      "pyzmq==25.0.2\n",
      "referencing==0.30.2\n",
      "requests-oauthlib==1.3.1\n",
      "requests==2.30.0\n",
      "rich==13.5.2\n",
      "rpds-py==0.10.2\n",
      "rsa==4.9\n",
      "scikit-image==0.21.0\n",
      "scikit-learn==1.2.2\n",
      "scipy==1.10.1\n",
      "seaborn==0.12.2\n",
      "sentry-sdk==1.42.0\n",
      "setproctitle==1.3.3\n",
      "setuptools==65.5.0\n",
      "six==1.16.0\n",
      "sklearn==0.0.post5\n",
      "smmap==5.0.0\n",
      "sniffio==1.3.0\n",
      "stack-data==0.6.2\n",
      "starlette==0.27.0\n",
      "streamlit==1.26.0\n",
      "tenacity==8.2.3\n",
      "tensorboard-data-server==0.7.1\n",
      "tensorboard==2.12.3\n",
      "tensorflow-addons==0.21.0\n",
      "tensorflow-datasets==4.6.0\n",
      "tensorflow-estimator==2.12.0\n",
      "tensorflow-intel==2.12.0\n",
      "tensorflow-io-gcs-filesystem==0.31.0\n",
      "tensorflow-metadata==1.9.0\n",
      "tensorflow==2.12.0\n",
      "termcolor==2.3.0\n",
      "threadpoolctl==3.1.0\n",
      "tifffile==2023.7.18\n",
      "toml==0.10.2\n",
      "toolz==0.12.0\n",
      "tornado==6.3.2\n",
      "tqdm==4.65.0\n",
      "traitlets==5.9.0\n",
      "typeguard==2.13.3\n",
      "typing-extensions==4.9.0\n",
      "tzdata==2023.3\n",
      "tzlocal==4.3.1\n",
      "urllib3==1.26.16\n",
      "uvicorn==0.22.0\n",
      "validators==0.22.0\n",
      "wandb==0.16.4\n",
      "watchdog==3.0.0\n",
      "watchfiles==0.19.0\n",
      "wcwidth==0.2.6\n",
      "websockets==11.0.3\n",
      "werkzeug==2.3.6\n",
      "wheel==0.40.0\n",
      "widgetsnbextension==4.0.9\n",
      "wrapt==1.14.1\n",
      "zipp==3.15.0\n"
     ]
    }
   ],
   "source": [
    "installed_packages = pkg_resources.working_set\n",
    "installed_packages_list = sorted([\"%s==%s\" % (i.key, i.version) for i in installed_packages])\n",
    "for package in installed_packages_list:\n",
    "    print(package)\n"
   ]
  },
  {
   "cell_type": "markdown",
   "metadata": {},
   "source": [
    "### Login and Initiate Weights and Biases"
   ]
  },
  {
   "cell_type": "code",
   "execution_count": 5,
   "metadata": {},
   "outputs": [
    {
     "name": "stderr",
     "output_type": "stream",
     "text": [
      "\u001b[34m\u001b[1mwandb\u001b[0m: W&B API key is configured. Use \u001b[1m`wandb login --relogin`\u001b[0m to force relogin\n",
      "\u001b[34m\u001b[1mwandb\u001b[0m: \u001b[33mWARNING\u001b[0m If you're specifying your api key in code, ensure this code is not shared publicly.\n",
      "\u001b[34m\u001b[1mwandb\u001b[0m: \u001b[33mWARNING\u001b[0m Consider setting the WANDB_API_KEY environment variable, or running `wandb login` from the command line.\n",
      "\u001b[34m\u001b[1mwandb\u001b[0m: Appending key for api.wandb.ai to your netrc file: C:\\Users\\Armand S\\.netrc\n",
      "\u001b[34m\u001b[1mwandb\u001b[0m: Currently logged in as: \u001b[33mactuallyarmand\u001b[0m. Use \u001b[1m`wandb login --relogin`\u001b[0m to force relogin\n"
     ]
    },
    {
     "data": {
      "text/html": [
       "Tracking run with wandb version 0.16.4"
      ],
      "text/plain": [
       "<IPython.core.display.HTML object>"
      ]
     },
     "metadata": {},
     "output_type": "display_data"
    },
    {
     "data": {
      "text/html": [
       "Run data is saved locally in <code>c:\\Users\\Armand S\\Desktop\\ML & Data Science Projects\\yolo_project\\wandb\\run-20240316_175340-a1dzbz08</code>"
      ],
      "text/plain": [
       "<IPython.core.display.HTML object>"
      ]
     },
     "metadata": {},
     "output_type": "display_data"
    },
    {
     "data": {
      "text/html": [
       "Syncing run <strong><a href='https://wandb.ai/actuallyarmand/uncategorized/runs/a1dzbz08' target=\"_blank\">smooth-star-1</a></strong> to <a href='https://wandb.ai/actuallyarmand/uncategorized' target=\"_blank\">Weights & Biases</a> (<a href='https://wandb.me/run' target=\"_blank\">docs</a>)<br/>"
      ],
      "text/plain": [
       "<IPython.core.display.HTML object>"
      ]
     },
     "metadata": {},
     "output_type": "display_data"
    },
    {
     "data": {
      "text/html": [
       " View project at <a href='https://wandb.ai/actuallyarmand/uncategorized' target=\"_blank\">https://wandb.ai/actuallyarmand/uncategorized</a>"
      ],
      "text/plain": [
       "<IPython.core.display.HTML object>"
      ]
     },
     "metadata": {},
     "output_type": "display_data"
    },
    {
     "data": {
      "text/html": [
       " View run at <a href='https://wandb.ai/actuallyarmand/uncategorized/runs/a1dzbz08' target=\"_blank\">https://wandb.ai/actuallyarmand/uncategorized/runs/a1dzbz08</a>"
      ],
      "text/plain": [
       "<IPython.core.display.HTML object>"
      ]
     },
     "metadata": {},
     "output_type": "display_data"
    },
    {
     "data": {
      "text/html": [
       "<button onClick=\"this.nextSibling.style.display='block';this.style.display='none';\">Display W&B run</button><iframe src='https://wandb.ai/actuallyarmand/uncategorized/runs/a1dzbz08?jupyter=true' style='border:none;width:100%;height:420px;display:none;'></iframe>"
      ],
      "text/plain": [
       "<wandb.sdk.wandb_run.Run at 0x136f5bb1150>"
      ]
     },
     "execution_count": 5,
     "metadata": {},
     "output_type": "execute_result"
    }
   ],
   "source": [
    "#initialize weights and biases\n",
    "#enter API KEY\n",
    "wandb.login(key=\"API KEY")\n",
    "wandb.init()"
   ]
  },
  {
   "cell_type": "markdown",
   "metadata": {},
   "source": [
    "##### Separate the image paths for training, validation and testing datasets for both the images and label coordinates"
   ]
  },
  {
   "cell_type": "code",
   "execution_count": 7,
   "metadata": {},
   "outputs": [
    {
     "name": "stdout",
     "output_type": "stream",
     "text": [
      "c:\\Users\\Armand S\\Desktop\\ML & Data Science Projects\\yolo_project\n"
     ]
    }
   ],
   "source": [
    "#get current path directory\n",
    "curr_path = os.getcwd()\n",
    "print(curr_path)"
   ]
  },
  {
   "cell_type": "code",
   "execution_count": 17,
   "metadata": {},
   "outputs": [],
   "source": [
    "#create subfolders\n",
    "images_folder = os.path.join(curr_path, 'images')\n",
    "subfolders = ['training', 'validation', 'testing']\n",
    "\n",
    "for folder in subfolders:\n",
    "    folder_path = os.path.join(curr_path, folder)\n",
    "    os.makedirs(folder_path, exist_ok=True)\n",
    "\n",
    "#list all images in the images folderr\n",
    "image_files = os.listdir(images_folder)\n",
    "random.shuffle(image_files)"
   ]
  },
  {
   "cell_type": "code",
   "execution_count": 18,
   "metadata": {},
   "outputs": [],
   "source": [
    "train_ratio = 0.8\n",
    "val_ratio = 0.1\n",
    "test_ratio = 0.1"
   ]
  },
  {
   "cell_type": "code",
   "execution_count": 19,
   "metadata": {},
   "outputs": [
    {
     "name": "stdout",
     "output_type": "stream",
     "text": [
      "Summary of Image Split:\n",
      "Total Images: 2204\n",
      "Number of Training Images: 1763\n",
      "Number of Validation Images: 220\n",
      "Number of Testing Images: 221\n"
     ]
    }
   ],
   "source": [
    "total_images = len(image_files)\n",
    "num_train = int(total_images * train_ratio)\n",
    "num_val = int(total_images * val_ratio)\n",
    "num_test = total_images - num_train - num_val\n",
    "\n",
    "#define each variable names and print each one to check and confirm.\n",
    "variables = {\n",
    "    'Total Images': total_images,\n",
    "    'Number of Training Images': num_train,\n",
    "    'Number of Validation Images': num_val,\n",
    "    'Number of Testing Images': num_test\n",
    "}\n",
    "\n",
    "print(\"Summary of Image Split:\")\n",
    "for var_name, var_value in variables.items():\n",
    "    print(f\"{var_name}: {var_value}\")"
   ]
  },
  {
   "cell_type": "code",
   "execution_count": 24,
   "metadata": {},
   "outputs": [],
   "source": [
    "#Assign images to train, validation, and test sets\n",
    "train_images = image_files[:num_train]\n",
    "val_images = image_files[num_train:num_train + num_val]\n",
    "test_images = image_files[num_train+num_val:]"
   ]
  },
  {
   "cell_type": "markdown",
   "metadata": {},
   "source": [
    "##### Move images to each sub folders"
   ]
  },
  {
   "cell_type": "code",
   "execution_count": 32,
   "metadata": {},
   "outputs": [
    {
     "name": "stdout",
     "output_type": "stream",
     "text": [
      "Number of images transferred to each folder:\n",
      "training folder: 1763\n",
      "validation folder: 220\n",
      "testing folder: 221\n"
     ]
    }
   ],
   "source": [
    "train_count = 0\n",
    "val_count = 0\n",
    "test_count = 0\n",
    "\n",
    "for img in train_images:\n",
    "    src_img = os.path.join(images_folder, img)\n",
    "    dest_img = os.path.join(curr_path, 'training', img)\n",
    "    if not os.path.exists(dest_img):\n",
    "        shutil.move(src_img, dest_img)\n",
    "        train_count += 1\n",
    "\n",
    "for img in val_images:\n",
    "    src_img = os.path.join(images_folder, img)\n",
    "    dest_img = os.path.join(curr_path, 'validation', img)\n",
    "    if not os.path.exists(dest_img):\n",
    "        shutil.move(src_img, dest_img)\n",
    "        val_count += 1\n",
    "\n",
    "for img in test_images:\n",
    "    src_img = os.path.join(images_folder, img)\n",
    "    dest_img = os.path.join(curr_path, 'testing', img)\n",
    "    if not os.path.exists(dest_img):\n",
    "        shutil.move(src_img, dest_img)\n",
    "        test_count += 1\n",
    "\n",
    "print(\"Number of images transferred to each folder:\")\n",
    "print(f\"training folder: {num_train}\")\n",
    "print(f\"validation folder: {num_val}\")\n",
    "print(f\"testing folder: {num_test}\")"
   ]
  }
 ],
 "metadata": {
  "kernelspec": {
   "display_name": "Python 3",
   "language": "python",
   "name": "python3"
  },
  "language_info": {
   "codemirror_mode": {
    "name": "ipython",
    "version": 3
   },
   "file_extension": ".py",
   "mimetype": "text/x-python",
   "name": "python",
   "nbconvert_exporter": "python",
   "pygments_lexer": "ipython3",
   "version": "3.11.3"
  }
 },
 "nbformat": 4,
 "nbformat_minor": 2
}
