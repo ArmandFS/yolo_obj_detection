{
 "cells": [
  {
   "cell_type": "markdown",
   "metadata": {},
   "source": [
    "## Trying out a human-face object detector using YoloV8\n",
    "##### Import the necessary libraries used to split, process, clean data, and to assemble the YOLO object detection process"
   ]
  },
  {
   "cell_type": "code",
   "execution_count": 4,
   "metadata": {},
   "outputs": [],
   "source": [
    "#Import libraries\n",
    "import os\n",
    "import numpy as np\n",
    "import pandas as pd\n",
    "import shutil\n",
    "import cv2\n",
    "import random\n",
    "import matplotlib.pyplot as plt"
   ]
  },
  {
   "cell_type": "markdown",
   "metadata": {},
   "source": [
    "##### Python Script to check for local libraries"
   ]
  },
  {
   "cell_type": "code",
   "execution_count": 6,
   "metadata": {},
   "outputs": [
    {
     "name": "stdout",
     "output_type": "stream",
     "text": [
      "-pencv-python==4.8.0.76\n",
      "absl-py==1.4.0\n",
      "altair==5.1.1\n",
      "anyio==3.7.0\n",
      "array-record==0.2.0\n",
      "asttokens==2.2.1\n",
      "astunparse==1.6.3\n",
      "attrs==23.1.0\n",
      "backcall==0.2.0\n",
      "biopython==1.81\n",
      "blinker==1.6.2\n",
      "cachetools==5.3.1\n",
      "certifi==2023.5.7\n",
      "charset-normalizer==3.1.0\n",
      "click==8.1.3\n",
      "colorama==0.4.6\n",
      "comm==0.1.3\n",
      "contourpy==1.1.0\n",
      "cycler==0.11.0\n",
      "debugpy==1.6.7\n",
      "decorator==5.1.1\n",
      "dill==0.3.6\n",
      "distro==1.9.0\n",
      "dm-tree==0.1.8\n",
      "etils==1.3.0\n",
      "executing==1.2.0\n",
      "fastapi==0.97.0\n",
      "fastjsonschema==2.18.0\n",
      "flatbuffers==23.5.26\n",
      "fonttools==4.40.0\n",
      "gast==0.4.0\n",
      "gitdb==4.0.10\n",
      "gitpython==3.1.34\n",
      "google-auth-oauthlib==1.0.0\n",
      "google-auth==2.20.0\n",
      "google-pasta==0.2.0\n",
      "googleapis-common-protos==1.59.0\n",
      "grpcio==1.54.2\n",
      "h11==0.14.0\n",
      "h5py==3.8.0\n",
      "httpcore==1.0.2\n",
      "httptools==0.5.0\n",
      "httpx==0.26.0\n",
      "idna==3.4\n",
      "imageio==2.31.1\n",
      "importlib-metadata==6.8.0\n",
      "importlib-resources==5.12.0\n",
      "imutils==0.5.4\n",
      "ipyfilechooser==0.6.0\n",
      "ipykernel==6.23.1\n",
      "ipython==8.13.2\n",
      "ipywidgets==8.1.1\n",
      "jax==0.4.12\n",
      "jedi==0.18.2\n",
      "jinja2==3.1.2\n",
      "joblib==1.2.0\n",
      "jsonschema-specifications==2023.7.1\n",
      "jsonschema==4.19.0\n",
      "jupyter-client==8.2.0\n",
      "jupyter-core==5.3.0\n",
      "jupyterlab-widgets==3.0.9\n",
      "keras==2.12.0\n",
      "kiwisolver==1.4.4\n",
      "lazy-loader==0.3\n",
      "libclang==16.0.0\n",
      "markdown-it-py==3.0.0\n",
      "markdown==3.4.3\n",
      "markupsafe==2.1.3\n",
      "matplotlib-inline==0.1.6\n",
      "matplotlib==3.7.1\n",
      "mdurl==0.1.2\n",
      "ml-dtypes==0.2.0\n",
      "nbformat==5.9.2\n",
      "nest-asyncio==1.5.6\n",
      "networkx==3.1\n",
      "numpy==1.23.5\n",
      "oauthlib==3.2.2\n",
      "openai==1.12.0\n",
      "opencv-python==4.8.0.76\n",
      "opt-einsum==3.3.0\n",
      "packaging==23.1\n",
      "pandas==2.0.3\n",
      "parso==0.8.3\n",
      "pickleshare==0.7.5\n",
      "pillow==9.5.0\n",
      "pip==23.1.2\n",
      "platformdirs==3.5.1\n",
      "plotly==5.17.0\n",
      "promise==2.3\n",
      "prompt-toolkit==3.0.38\n",
      "protobuf==4.23.3\n",
      "psutil==5.9.5\n",
      "psycopg2==2.9.8\n",
      "pure-eval==0.2.2\n",
      "pyarrow==13.0.0\n",
      "pyasn1-modules==0.3.0\n",
      "pyasn1==0.5.0\n",
      "pydantic==1.10.9\n",
      "pydeck==0.8.0\n",
      "pydot==1.4.2\n",
      "pygments==2.15.1\n",
      "pympler==1.0.1\n",
      "pyparsing==3.1.0\n",
      "python-dateutil==2.8.2\n",
      "python-dotenv==1.0.0\n",
      "python-multipart==0.0.6\n",
      "pytz-deprecation-shim==0.1.0.post0\n",
      "pytz==2023.3\n",
      "pywavelets==1.4.1\n",
      "pywin32==306\n",
      "pyyaml==6.0\n",
      "pyzmq==25.0.2\n",
      "referencing==0.30.2\n",
      "requests-oauthlib==1.3.1\n",
      "requests==2.30.0\n",
      "rich==13.5.2\n",
      "rpds-py==0.10.2\n",
      "rsa==4.9\n",
      "scikit-image==0.21.0\n",
      "scikit-learn==1.2.2\n",
      "scipy==1.10.1\n",
      "seaborn==0.12.2\n",
      "setuptools==65.5.0\n",
      "six==1.16.0\n",
      "sklearn==0.0.post5\n",
      "smmap==5.0.0\n",
      "sniffio==1.3.0\n",
      "stack-data==0.6.2\n",
      "starlette==0.27.0\n",
      "streamlit==1.26.0\n",
      "tenacity==8.2.3\n",
      "tensorboard-data-server==0.7.1\n",
      "tensorboard==2.12.3\n",
      "tensorflow-addons==0.21.0\n",
      "tensorflow-datasets==4.6.0\n",
      "tensorflow-estimator==2.12.0\n",
      "tensorflow-intel==2.12.0\n",
      "tensorflow-io-gcs-filesystem==0.31.0\n",
      "tensorflow-metadata==1.9.0\n",
      "tensorflow==2.12.0\n",
      "termcolor==2.3.0\n",
      "threadpoolctl==3.1.0\n",
      "tifffile==2023.7.18\n",
      "toml==0.10.2\n",
      "toolz==0.12.0\n",
      "tornado==6.3.2\n",
      "tqdm==4.65.0\n",
      "traitlets==5.9.0\n",
      "typeguard==2.13.3\n",
      "typing-extensions==4.9.0\n",
      "tzdata==2023.3\n",
      "tzlocal==4.3.1\n",
      "urllib3==1.26.16\n",
      "uvicorn==0.22.0\n",
      "validators==0.22.0\n",
      "watchdog==3.0.0\n",
      "watchfiles==0.19.0\n",
      "wcwidth==0.2.6\n",
      "websockets==11.0.3\n",
      "werkzeug==2.3.6\n",
      "wheel==0.40.0\n",
      "widgetsnbextension==4.0.9\n",
      "wrapt==1.14.1\n",
      "zipp==3.15.0\n"
     ]
    }
   ],
   "source": [
    "import pkg_resources\n",
    "\n",
    "installed_packages = pkg_resources.working_set\n",
    "installed_packages_list = sorted([\"%s==%s\" % (i.key, i.version) for i in installed_packages])\n",
    "\n",
    "for package in installed_packages_list:\n",
    "    print(package)\n"
   ]
  },
  {
   "cell_type": "markdown",
   "metadata": {},
   "source": [
    "##### Separate the image paths for training, validation and testing datasets for both the images and label coordinates"
   ]
  },
  {
   "cell_type": "code",
   "execution_count": 8,
   "metadata": {},
   "outputs": [
    {
     "name": "stdout",
     "output_type": "stream",
     "text": [
      "c:\\Users\\Armand S\\Desktop\\ML & Data Science Projects\\yolo_project\n"
     ]
    }
   ],
   "source": [
    "#get current path directory\n",
    "curr_path = os.getcwd()\n",
    "print(curr_path)"
   ]
  },
  {
   "cell_type": "code",
   "execution_count": 13,
   "metadata": {},
   "outputs": [
    {
     "name": "stdout",
     "output_type": "stream",
     "text": [
      "Folders created.\n"
     ]
    }
   ],
   "source": [
    "images_folder = os.path.join(curr_path, 'images')\n",
    "#define and create a subfolder array\n",
    "subfolders = ['train','validation','test']\n",
    "\n",
    "for folder in subfolders:\n",
    "    folder_path = os.path.join(images_folder, folder)\n",
    "    os.makedirs(folder_path, exist_ok=True)\n",
    "    \n",
    "print(\"Folders created.\")\n"
   ]
  },
  {
   "cell_type": "code",
   "execution_count": 14,
   "metadata": {},
   "outputs": [],
   "source": [
    "#define and create 3 sunfolders for labels\n",
    "labels_df = pd.read_csv('labels.csv')\n",
    "\n",
    "#split the labels"
   ]
  }
 ],
 "metadata": {
  "kernelspec": {
   "display_name": "Python 3",
   "language": "python",
   "name": "python3"
  },
  "language_info": {
   "codemirror_mode": {
    "name": "ipython",
    "version": 3
   },
   "file_extension": ".py",
   "mimetype": "text/x-python",
   "name": "python",
   "nbconvert_exporter": "python",
   "pygments_lexer": "ipython3",
   "version": "3.11.3"
  }
 },
 "nbformat": 4,
 "nbformat_minor": 2
}
